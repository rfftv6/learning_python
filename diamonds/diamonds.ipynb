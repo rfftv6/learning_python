# March 4, 2017
#First attempt to a Jupyther notebook in Github
import pandas as pd

